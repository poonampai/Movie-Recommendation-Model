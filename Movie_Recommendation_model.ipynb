{
  "nbformat": 4,
  "nbformat_minor": 0,
  "metadata": {
    "colab": {
      "name": "Movie_Recommendation.ipynb",
      "provenance": []
    },
    "kernelspec": {
      "display_name": "Python 3",
      "name": "python3"
    },
    "language_info": {
      "name": "python"
    }
  },
  "cells": [
    {
      "cell_type": "markdown",
      "metadata": {
        "id": "pnnMqLXALMbC"
      },
      "source": [
        "**Item Based Collaborative Filtering**"
      ]
    },
    {
      "cell_type": "markdown",
      "metadata": {
        "id": "rlbuEiq7LeGF"
      },
      "source": [
        "*Method 1(Using Indices and distances)*"
      ]
    },
    {
      "cell_type": "code",
      "metadata": {
        "id": "T-P0ms09QCf4"
      },
      "source": [
        "#modules required\n",
        "import pandas as pd\n",
        "import numpy as np\n",
        "import matplotlib.pyplot as plt\n",
        "import seaborn as sns"
      ],
      "execution_count": null,
      "outputs": []
    },
    {
      "cell_type": "code",
      "metadata": {
        "id": "xwrsXzOJSOFX"
      },
      "source": [
        "#Mount the dataset from the drive\n",
        "%cd '/content/drive/My Drive/Colab Notebooks/Amazon movies'"
      ],
      "execution_count": null,
      "outputs": []
    },
    {
      "cell_type": "code",
      "metadata": {
        "id": "w3jiw25gTse6"
      },
      "source": [
        "#Display first 5 rows of the dataset\n",
        "df = pd.read_csv('Amazon - Movies and TV Ratings.csv')\n",
        "df.head()"
      ],
      "execution_count": null,
      "outputs": []
    },
    {
      "cell_type": "code",
      "metadata": {
        "id": "bFJvo_-UsoPY"
      },
      "source": [
        "#To set user_id as the index and remove auto generated indexes in the main df\n",
        "df = df.set_index('user_id')\n",
        "df.fillna(0,inplace=True)\n",
        "df.head()\n"
      ],
      "execution_count": null,
      "outputs": []
    },
    {
      "cell_type": "code",
      "metadata": {
        "id": "ynlFqV2JUpco"
      },
      "source": [
        "#For better understanding,set rows to each unique movie name and columns to each unique user name\n",
        "movies = df.T#transpose method to swap rows and columns\n",
        "movies.head()"
      ],
      "execution_count": null,
      "outputs": []
    },
    {
      "cell_type": "code",
      "metadata": {
        "id": "gFEhw-NjplwI"
      },
      "source": [
        "#To group all the columns under one column name\n",
        "movies.index.names=['Movie_name']\n",
        "movies.head()"
      ],
      "execution_count": null,
      "outputs": []
    },
    {
      "cell_type": "code",
      "metadata": {
        "id": "SaUY-Fc2NXI7"
      },
      "source": [
        "from sklearn.neighbors import NearestNeighbors"
      ],
      "execution_count": null,
      "outputs": []
    },
    {
      "cell_type": "code",
      "metadata": {
        "id": "Ujs4BK8wNxLm"
      },
      "source": [
        "#The NearestNeighbors() in the sklearn.neighbors library is used to calculate the distance between movies using the cosine similarity and find the nearest neighbors for each movie.\n",
        "knn = NearestNeighbors(metric='cosine', algorithm='brute')\n",
        "knn.fit(movies.values)\n",
        "distances, indices = knn.kneighbors(movies.values,n_neighbors=3)"
      ],
      "execution_count": null,
      "outputs": []
    },
    {
      "cell_type": "code",
      "metadata": {
        "id": "TGDHXNWoH-W-"
      },
      "source": [
        "print(indices)"
      ],
      "execution_count": null,
      "outputs": []
    },
    {
      "cell_type": "code",
      "metadata": {
        "id": "PVEYlZ02Omhp"
      },
      "source": [
        "print(distances)"
      ],
      "execution_count": null,
      "outputs": []
    },
    {
      "cell_type": "code",
      "metadata": {
        "id": "15FCzMcvKTu1"
      },
      "source": [
        "# get the index for 'Movie1'\n",
        "index_for_movie = movies.index.tolist().index('Movie1')\n",
        "# find the indices for the similar movies\n",
        "sim_movies = indices[index_for_movie].tolist()\n",
        "# distances between 'Movie1' and the similar movies\n",
        "movie_distances = distances[index_for_movie].tolist()\n",
        "# the position of 'Movie1' in the list sim_movies\n",
        "id_movie = sim_movies.index(index_for_movie)\n",
        "# remove 'Movie1' from the list sim_movies\n",
        "sim_movies.remove(index_for_movie)\n",
        "# remove 'Movie1' from the list movie_distances\n",
        "movie_distances.pop(id_movie)\n",
        "print('The Nearest Movies to Movie1:', sim_movies)\n",
        "print('The Distance from Movie1:', movie_distances)"
      ],
      "execution_count": null,
      "outputs": []
    },
    {
      "cell_type": "markdown",
      "metadata": {
        "id": "1tYVVZKZceWF"
      },
      "source": [
        "*Method 2(Using corrwith())*"
      ]
    },
    {
      "cell_type": "code",
      "metadata": {
        "id": "xhi5WPy4dC4l"
      },
      "source": [
        "df = pd.read_csv('Amazon - Movies and TV Ratings.csv')\n",
        "df.fillna(0,inplace=True)\n",
        "df.head()"
      ],
      "execution_count": null,
      "outputs": []
    },
    {
      "cell_type": "code",
      "metadata": {
        "id": "0IW9T0lVyYbk"
      },
      "source": [
        "#To make a column into a row and to generate a new column with the value field\n",
        "#The melted_df will only be used later to draw the graph\n",
        "melted_df = df.melt(id_vars=['user_id'],var_name=\"Movie_name\",value_name='Ratings')\n",
        "melted_df.fillna(0,inplace=True)\n",
        "melted_df = melted_df.set_index('user_id')\n",
        "melted_df.head()\n"
      ],
      "execution_count": null,
      "outputs": []
    },
    {
      "cell_type": "code",
      "metadata": {
        "id": "chdqfT5vZIWu"
      },
      "source": [
        "melted_df.groupby('Movie_name')['Ratings'].mean().sort_values(ascending=False).head()"
      ],
      "execution_count": null,
      "outputs": []
    },
    {
      "cell_type": "code",
      "metadata": {
        "id": "6JopE-M1Z45M"
      },
      "source": [
        "melted_df.groupby('Movie_name')['Ratings'].count().sort_values(ascending=False).head()"
      ],
      "execution_count": null,
      "outputs": []
    },
    {
      "cell_type": "code",
      "metadata": {
        "id": "dxw22a66bA5q"
      },
      "source": [
        "plot_1 = pd.DataFrame(melted_df.groupby('Movie_name')['Ratings'].mean())\n",
        "plot_1.head()"
      ],
      "execution_count": null,
      "outputs": []
    },
    {
      "cell_type": "code",
      "metadata": {
        "id": "lIWdpfBrbsg3"
      },
      "source": [
        "plot_1['No. of ratings']=pd.DataFrame(melted_df.groupby('Movie_name')['Ratings'].count())\n",
        "plot_1.head()"
      ],
      "execution_count": null,
      "outputs": []
    },
    {
      "cell_type": "code",
      "metadata": {
        "id": "EZc3lK0rccQ0"
      },
      "source": [
        "plt.figure(figsize=(15,4))\n",
        "plot_1['No. of ratings'].hist(bins=70)"
      ],
      "execution_count": null,
      "outputs": []
    },
    {
      "cell_type": "code",
      "metadata": {
        "id": "q7CkIkuudegc"
      },
      "source": [
        "plt.figure(figsize=(15,4))\n",
        "plot_1['Ratings'].hist(bins=70)"
      ],
      "execution_count": null,
      "outputs": []
    },
    {
      "cell_type": "code",
      "metadata": {
        "id": "uV5l8_atdx6S"
      },
      "source": [
        "sns.jointplot(x='Ratings',y='No. of ratings',data=plot_1,alpha=0.5)\n"
      ],
      "execution_count": null,
      "outputs": []
    },
    {
      "cell_type": "code",
      "metadata": {
        "id": "RaVSSSX48JHl"
      },
      "source": [
        "movie1_ratings = df['Movie1']\n",
        "movie1_ratings.head()"
      ],
      "execution_count": null,
      "outputs": []
    },
    {
      "cell_type": "code",
      "metadata": {
        "id": "Aww-yZ3H-o_S"
      },
      "source": [
        "similar_to_movie1 = df.corrwith(movie1_ratings)"
      ],
      "execution_count": null,
      "outputs": []
    },
    {
      "cell_type": "code",
      "metadata": {
        "id": "zX-w3IxS-28U"
      },
      "source": [
        "corr_movie1 = pd.DataFrame(similar_to_movie1,columns=['Correlation'])\n",
        "corr_movie1.head()"
      ],
      "execution_count": null,
      "outputs": []
    },
    {
      "cell_type": "code",
      "metadata": {
        "id": "JeJvCApC_gj7"
      },
      "source": [
        "corr_movie1 = corr_movie1.join(plot_1['No. of ratings'])\n",
        "corr_movie1.head()"
      ],
      "execution_count": null,
      "outputs": []
    },
    {
      "cell_type": "code",
      "metadata": {
        "id": "mf_Q34HhAsb9"
      },
      "source": [
        "corr_movie1[corr_movie1['No. of ratings']>100].sort_values('Correlation',ascending=False).head()"
      ],
      "execution_count": null,
      "outputs": []
    }
  ]
}